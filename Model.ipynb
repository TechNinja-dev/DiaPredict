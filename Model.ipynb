{
 "cells": [
  {
   "cell_type": "markdown",
   "id": "c1d54b0f",
   "metadata": {},
   "source": [
    "<img src='banner.png' style='width:900px; height:500px'>"
   ]
  },
  {
   "cell_type": "markdown",
   "id": "382c91ca",
   "metadata": {},
   "source": [
    "# 🧠 **Diabetes Prediction Using SVM**\n",
    "> *Machine Learning Model to Predict Whether a Patient Has Diabetes Based on Medical Metrics*\n",
    "\n",
    "---\n",
    "\n",
    "### 🔧 Step 1: Import Required Libraries\n",
    "\n",
    "We start by importing essential libraries for:\n",
    "- **Data handling** (`pandas`)\n",
    "- **Modeling** (Support Vector Machine via `SVC`)\n",
    "- **Preprocessing** (`LabelEncoder`)\n",
    "- **Data Splitting** (`train_test_split`)\n",
    "- **Model Evaluation** (`accuracy_score`)\n",
    "\n",
    "```python\n",
    "\n"
   ]
  },
  {
   "cell_type": "code",
   "execution_count": 1,
   "id": "e78f643d",
   "metadata": {},
   "outputs": [],
   "source": [
    "import pandas as pd\n",
    "import numpy as np\n",
    "from sklearn.svm import SVC\n",
    "from sklearn.preprocessing import LabelEncoder\n",
    "from sklearn.model_selection import train_test_split as tts\n",
    "from sklearn.metrics import accuracy_score"
   ]
  },
  {
   "cell_type": "markdown",
   "id": "c3bf6859",
   "metadata": {},
   "source": [
    "## 📂 Step 2: Load the Dataset\n",
    "\n",
    "We begin by loading the diabetes dataset from a CSV file into a Pandas DataFrame for analysis and modeling.\n",
    "\n",
    "> **File:** `Dataset of Diabetes .csv`\n",
    "\n",
    "---\n",
    "\n",
    "*Next, we'll explore and preprocess this data to prepare it for our SVM model.*\n"
   ]
  },
  {
   "cell_type": "code",
   "execution_count": 2,
   "id": "4480fec4",
   "metadata": {},
   "outputs": [],
   "source": [
    "df=pd.read_csv('Dataset of Diabetes .csv')"
   ]
  },
  {
   "cell_type": "markdown",
   "id": "c2c14086",
   "metadata": {},
   "source": [
    "## 🔍 Step 3: Check for Missing Values\n",
    "\n",
    "Before proceeding, it’s crucial to identify any missing or null values in the dataset that might affect model performance.\n",
    "\n",
    "This step summarizes the count of null values in each feature column.\n",
    "\n",
    "---\n",
    "\n",
    "*Handling missing data properly ensures the integrity of our predictions.*\n"
   ]
  },
  {
   "cell_type": "code",
   "execution_count": 3,
   "id": "ca83df25",
   "metadata": {},
   "outputs": [
    {
     "data": {
      "text/plain": [
       "ID           0\n",
       "No_Pation    0\n",
       "Gender       0\n",
       "AGE          0\n",
       "Urea         0\n",
       "Cr           0\n",
       "HbA1c        0\n",
       "Chol         0\n",
       "TG           0\n",
       "HDL          0\n",
       "LDL          0\n",
       "VLDL         0\n",
       "BMI          0\n",
       "CLASS        0\n",
       "dtype: int64"
      ]
     },
     "execution_count": 3,
     "metadata": {},
     "output_type": "execute_result"
    }
   ],
   "source": [
    "df.isna().sum()  #Checking for null values"
   ]
  },
  {
   "cell_type": "markdown",
   "id": "2094aa75",
   "metadata": {},
   "source": [
    "## 🧹 Step 4: Data Cleaning and Encoding\n",
    "\n",
    "- We drop the **`ID`** column since it’s just an identifier and doesn’t help prediction.\n",
    "- Convert categorical string features into numerical form:\n",
    "  - Encode **`CLASS`** (target variable) as 0/1 for non-diabetic/diabetic.\n",
    "  - Encode **`Gender`** as numeric values to use in the model.\n",
    "\n",
    "---\n",
    "\n",
    "*Encoding categorical variables is essential for machine learning models like SVM that require numerical input.*\n"
   ]
  },
  {
   "cell_type": "code",
   "execution_count": 4,
   "id": "acb37b2a",
   "metadata": {},
   "outputs": [],
   "source": [
    "df.drop(columns=['ID'],inplace=True)   #removing unnessecery features\n",
    "LE=LabelEncoder()\n",
    "df['CLASS']=LE.fit_transform(df['CLASS'])     #Encoding String values\n",
    "df['Gender']=LE.fit_transform(df['Gender'])"
   ]
  },
  {
   "cell_type": "markdown",
   "id": "85e36d0e",
   "metadata": {},
   "source": [
    "## 🎯 Step 5: Define Features and Target\n",
    "\n",
    "- Separate the **independent variables (features)** into `X`\n",
    "- Separate the **dependent variable (target)**, which is the `CLASS` column, into `y`\n",
    "\n",
    "This prepares our data for training the machine learning model.\n",
    "\n",
    "---\n"
   ]
  },
  {
   "cell_type": "code",
   "execution_count": 5,
   "id": "744ab18e",
   "metadata": {},
   "outputs": [],
   "source": [
    "x=df.iloc[:,:-1]   #seperating independent and dependent variables\n",
    "y=df.iloc[:,-1]"
   ]
  },
  {
   "cell_type": "markdown",
   "id": "f03f8f70",
   "metadata": {},
   "source": [
    "## 🔀 Step 6: Split Data into Training and Testing Sets\n",
    "\n",
    "- We split the dataset into:\n",
    "  - **Training set (70%)** — used to train the model\n",
    "  - **Testing set (30%)** — used to evaluate model performance\n",
    "\n",
    "- The `random_state=4` ensures reproducibility of results.\n",
    "\n",
    "---\n",
    "\n",
    "*Splitting data properly prevents overfitting and helps validate the model’s effectiveness on unseen data.*\n"
   ]
  },
  {
   "cell_type": "code",
   "execution_count": 6,
   "id": "ce4e2dd3",
   "metadata": {},
   "outputs": [],
   "source": [
    "x_train,x_test,y_train,y_test=tts(x,y,test_size=0.3,random_state=4)  #splitting dataset into training and testind data"
   ]
  },
  {
   "cell_type": "markdown",
   "id": "bc28c4a9",
   "metadata": {},
   "source": [
    "## 🧠 Step 7: Train and Predict Using Support Vector Machine (SVM)\n",
    "\n",
    "- Initialize the SVM classifier with default parameters.\n",
    "- Train the model on the **training data** (`x_train`, `y_train`).\n",
    "- Use the trained model to **predict** the target values for the test data (`x_test`).\n",
    "\n",
    "---\n",
    "\n",
    "*Support Vector Machines are powerful classifiers that find the optimal boundary between classes.*\n"
   ]
  },
  {
   "cell_type": "code",
   "execution_count": 7,
   "id": "14514593",
   "metadata": {},
   "outputs": [],
   "source": [
    "svm=SVC()                 #training svm model\n",
    "svm.fit(x_train,y_train)\n",
    "y_pred=svm.predict(x_test)"
   ]
  },
  {
   "cell_type": "markdown",
   "id": "70eeddf1",
   "metadata": {},
   "source": [
    "## 📊 Step 8: Evaluate Model Accuracy\n",
    "\n",
    "- Calculate the **accuracy score** by comparing the predicted labels (`y_pred`) with the true labels (`y_test`).\n",
    "- Accuracy indicates the proportion of correct predictions made by the model.\n",
    "\n",
    "---\n",
    "\n",
    "*An accuracy of 0.84 means the model correctly predicts diabetes status 84% of the time on unseen data.*\n"
   ]
  },
  {
   "cell_type": "code",
   "execution_count": 8,
   "id": "5c103815",
   "metadata": {},
   "outputs": [
    {
     "data": {
      "text/plain": [
       "0.84"
      ]
     },
     "execution_count": 8,
     "metadata": {},
     "output_type": "execute_result"
    }
   ],
   "source": [
    "acc=accuracy_score(y_test,y_pred)    #calculating accuracy\n",
    "acc"
   ]
  },
  {
   "cell_type": "markdown",
   "id": "8b506503",
   "metadata": {},
   "source": [
    "# 🎯 Conclusion\n",
    "\n",
    "In this project, we successfully built a **Support Vector Machine (SVM)** model to predict whether a patient has diabetes based on medical features such as age, gender, blood metrics, and BMI.\n",
    "\n",
    "- The dataset was cleaned and preprocessed, including encoding categorical variables.\n",
    "- We split the data into training and testing sets to validate the model.\n",
    "- The trained SVM model achieved an accuracy of approximately **84%**, indicating good predictive performance.\n",
    "- This approach demonstrates how machine learning can assist healthcare professionals in early diabetes detection, potentially improving patient outcomes.\n",
    "\n",
    "---\n",
    "\n",
    "**Next Steps:**\n",
    "- Tune the SVM hyperparameters for better accuracy.\n",
    "- Explore other classification models like Random Forest or XGBoost.\n",
    "- Incorporate feature engineering and handle any class imbalance.\n",
    "- Deploy the model in a real-world clinical setting.\n",
    "\n",
    "Thank you for reviewing this project! 🚀\n"
   ]
  }
 ],
 "metadata": {
  "kernelspec": {
   "display_name": "Python 3",
   "language": "python",
   "name": "python3"
  },
  "language_info": {
   "codemirror_mode": {
    "name": "ipython",
    "version": 3
   },
   "file_extension": ".py",
   "mimetype": "text/x-python",
   "name": "python",
   "nbconvert_exporter": "python",
   "pygments_lexer": "ipython3",
   "version": "3.10.0"
  }
 },
 "nbformat": 4,
 "nbformat_minor": 5
}
